{
 "cells": [
  {
   "cell_type": "markdown",
   "id": "1a51d127",
   "metadata": {},
   "source": [
    "# 1. Ensemble model"
   ]
  },
  {
   "cell_type": "code",
   "execution_count": 51,
   "id": "6212b89d",
   "metadata": {
    "scrolled": true
   },
   "outputs": [
    {
     "name": "stdout",
     "output_type": "stream",
     "text": [
      "Ensemble Model Accuracy: 1.0\n"
     ]
    }
   ],
   "source": [
    "from sklearn.datasets import load_iris\n",
    "from sklearn.model_selection import train_test_split\n",
    "from sklearn.ensemble import RandomForestClassifier\n",
    "from sklearn.metrics import accuracy_score\n",
    "\n",
    "iris = load_iris()\n",
    "X, y = iris.data, iris.target\n",
    "\n",
    "X_train, X_test, y_train, y_test = train_test_split(X, y, test_size=0.2, random_state=42)\n",
    "\n",
    "ensemble_model = RandomForestClassifier(n_estimators=100, random_state=42)\n",
    "\n",
    "ensemble_model.fit(X_train, y_train)\n",
    "\n",
    "\n",
    "y_pred = ensemble_model.predict(X_test)\n",
    "\n",
    "accuracy = accuracy_score(y_test, y_pred)\n",
    "print(f\"Ensemble Model Accuracy: {accuracy}\")\n"
   ]
  },
  {
   "cell_type": "code",
   "execution_count": null,
   "id": "bc347be8",
   "metadata": {},
   "outputs": [],
   "source": []
  },
  {
   "cell_type": "markdown",
   "id": "12a5238c",
   "metadata": {},
   "source": [
    "# 2. Bayesian networks"
   ]
  },
  {
   "cell_type": "code",
   "execution_count": 52,
   "id": "a76caa7d",
   "metadata": {
    "scrolled": false
   },
   "outputs": [
    {
     "name": "stdout",
     "output_type": "stream",
     "text": [
      "BayesianNetwork with 5 nodes and 4 edges\n",
      "+-----------+---------------+\n",
      "| target    |   phi(target) |\n",
      "+===========+===============+\n",
      "| target(0) |        1.0000 |\n",
      "+-----------+---------------+\n",
      "| target(1) |        0.0000 |\n",
      "+-----------+---------------+\n",
      "| target(2) |        0.0000 |\n",
      "+-----------+---------------+\n"
     ]
    }
   ],
   "source": [
    "from sklearn.datasets import load_iris\n",
    "from pgmpy.models import BayesianNetwork\n",
    "from pgmpy.inference import VariableElimination\n",
    "import pandas as pd\n",
    "\n",
    "def load_data():\n",
    "    iris = load_iris()\n",
    "    data = pd.DataFrame(iris.data, columns=iris.feature_names)\n",
    "    data['target'] = iris.target\n",
    "    return data\n",
    "\n",
    "def create_bayesian_network(data):\n",
    "    model = BayesianNetwork([('sepal length (cm)','target'), ('sepal width (cm)', 'target'),('petal length (cm)', 'target'), ('petal width (cm)','target')])\n",
    "    print(model)\n",
    "    model.fit(data)\n",
    "\n",
    "    return model\n",
    "\n",
    "def perform_inference(model, evidence):\n",
    "    inference = VariableElimination(model)\n",
    "    result = inference.query(variables=['target'], evidence=evidence)\n",
    "    return result\n",
    "\n",
    "if __name__ == \"__main__\":\n",
    "    data = load_data()\n",
    "    bn_model = create_bayesian_network(data)\n",
    "\n",
    "    # Example evidence values\n",
    "    evidence = {'sepal length (cm)': 5.1, 'sepal width (cm)': 3.5, 'petal length (cm)': 1.4, 'petal width (cm)': 0.2}\n",
    "    result = perform_inference(bn_model, evidence)\n",
    "    print(result)\n"
   ]
  },
  {
   "cell_type": "code",
   "execution_count": null,
   "id": "4dee8246",
   "metadata": {},
   "outputs": [],
   "source": []
  },
  {
   "cell_type": "code",
   "execution_count": null,
   "id": "1cbc08cc",
   "metadata": {},
   "outputs": [],
   "source": []
  },
  {
   "cell_type": "code",
   "execution_count": null,
   "id": "d087428e",
   "metadata": {},
   "outputs": [],
   "source": []
  }
 ],
 "metadata": {
  "kernelspec": {
   "display_name": "Python 3 (ipykernel)",
   "language": "python",
   "name": "python3"
  },
  "language_info": {
   "codemirror_mode": {
    "name": "ipython",
    "version": 3
   },
   "file_extension": ".py",
   "mimetype": "text/x-python",
   "name": "python",
   "nbconvert_exporter": "python",
   "pygments_lexer": "ipython3",
   "version": "3.11.5"
  }
 },
 "nbformat": 4,
 "nbformat_minor": 5
}
